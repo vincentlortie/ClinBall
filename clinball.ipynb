{
  "nbformat": 4,
  "nbformat_minor": 0,
  "metadata": {
    "colab": {
      "name": "clinball.ipynb",
      "provenance": []
    },
    "kernelspec": {
      "name": "python3",
      "display_name": "Python 3"
    }
  },
  "cells": [
    {
      "cell_type": "markdown",
      "metadata": {
        "id": "KmOp5bSsLvO1",
        "colab_type": "text"
      },
      "source": [
        "# Sample Notebook"
      ]
    }
  ]
}