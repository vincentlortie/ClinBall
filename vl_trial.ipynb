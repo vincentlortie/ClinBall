{
 "cells": [
  {
   "cell_type": "markdown",
   "metadata": {},
   "source": [
    "### Imports"
   ]
  },
  {
   "cell_type": "code",
   "execution_count": 4,
   "metadata": {},
   "outputs": [
    {
     "name": "stdout",
     "output_type": "stream",
     "text": [
      "Requirement already satisfied: pandas in c:\\users\\vincent\\appdata\\local\\programs\\python\\python37\\lib\\site-packages (1.0.3)"
     ]
    },
    {
     "name": "stderr",
     "output_type": "stream",
     "text": [
      "WARNING: You are using pip version 20.0.1; however, version 20.0.2 is available.\n",
      "You should consider upgrading via the 'c:\\users\\vincent\\appdata\\local\\programs\\python\\python37\\python.exe -m pip install --upgrade pip' command.\n"
     ]
    },
    {
     "name": "stdout",
     "output_type": "stream",
     "text": [
      "\n",
      "Requirement already satisfied: pytz>=2017.2 in c:\\users\\vincent\\appdata\\local\\programs\\python\\python37\\lib\\site-packages (from pandas) (2019.3)\n",
      "Requirement already satisfied: python-dateutil>=2.6.1 in c:\\users\\vincent\\appdata\\local\\programs\\python\\python37\\lib\\site-packages (from pandas) (2.8.1)\n",
      "Requirement already satisfied: numpy>=1.13.3 in c:\\users\\vincent\\appdata\\local\\programs\\python\\python37\\lib\\site-packages (from pandas) (1.16.2)\n",
      "Requirement already satisfied: six>=1.5 in c:\\users\\vincent\\appdata\\roaming\\python\\python37\\site-packages (from python-dateutil>=2.6.1->pandas) (1.11.0)\n",
      "Requirement already satisfied: torch in c:\\users\\vincent\\appdata\\local\\programs\\python\\python37\\lib\\site-packages (1.4.0)"
     ]
    },
    {
     "name": "stderr",
     "output_type": "stream",
     "text": [
      "WARNING: You are using pip version 20.0.1; however, version 20.0.2 is available.\n",
      "You should consider upgrading via the 'c:\\users\\vincent\\appdata\\local\\programs\\python\\python37\\python.exe -m pip install --upgrade pip' command.\n"
     ]
    },
    {
     "name": "stdout",
     "output_type": "stream",
     "text": [
      "\n"
     ]
    },
    {
     "name": "stderr",
     "output_type": "stream",
     "text": [
      "WARNING: You are using pip version 20.0.1; however, version 20.0.2 is available.\n",
      "You should consider upgrading via the 'c:\\users\\vincent\\appdata\\local\\programs\\python\\python37\\python.exe -m pip install --upgrade pip' command.\n"
     ]
    },
    {
     "name": "stdout",
     "output_type": "stream",
     "text": [
      "Requirement already satisfied: numpy in c:\\users\\vincent\\appdata\\local\\programs\\python\\python37\\lib\\site-packages (1.16.2)\n"
     ]
    }
   ],
   "source": [
    "! pip install pandas\n",
    "! pip install torch\n",
    "! pip install numpy\n",
    "\n",
    "import pandas as pd\n",
    "import numpy as np\n",
    "import torch\n",
    "import csv\n"
   ]
  },
  {
   "cell_type": "code",
   "execution_count": 5,
   "metadata": {},
   "outputs": [],
   "source": [
    "encoding_defn = ['FATHMM_T', 'FATHMM_D', \n",
    "                 'MT_A', 'MT_D','MT_N', 'MT_P', \n",
    "                 'SIFT_T', 'SIFT_D', \n",
    "                 'LRT_D', 'LRT_N', 'LRT_U',\n",
    "                 'CV_B', 'CV_LB', 'CV_LP', 'CV_P', 'CV_DR', 'CV_H', 'CV_US', 'CV_CIP']\n",
    "\n",
    "encoding_dict = {\n",
    "    'FATHMM_pred': {\n",
    "        'T': 0,\n",
    "        'D': 1\n",
    "    },\n",
    "    'MutationTaster_pred': {\n",
    "        'A': 2,\n",
    "        'D': 3,\n",
    "        'N': 4,\n",
    "        'P': 5\n",
    "    },\n",
    "    'SIFT_pred': {\n",
    "        'T': 6,\n",
    "        'D': 7\n",
    "    },\n",
    "    'LRT_pred': {\n",
    "        'D': 8,\n",
    "        'N': 9,\n",
    "        'U': 10,\n",
    "    },\n",
    "    'clinvar_clnsig': {\n",
    "        'Benign': 11,\n",
    "        'Likely_benign': 12,\n",
    "        'Likely_pathogenic': 13,\n",
    "        'Pathogenic': 14,\n",
    "        'drug_response': 15,\n",
    "        'histocompatibility': 16,\n",
    "        'Uncertain_significance': 17,\n",
    "        'Conflicting_interpretations_of_pathogenicity': 18\n",
    "    }\n",
    "}\n"
   ]
  },
  {
   "cell_type": "code",
   "execution_count": 6,
   "metadata": {},
   "outputs": [
    {
     "name": "stdout",
     "output_type": "stream",
     "text": [
      "(16936, 19)\n",
      "[0. 0. 0. 0. 1. 0. 0. 0. 0. 1. 0. 1. 0. 0. 0. 0. 0. 0. 0.]\n",
      "tensor([[0., 0., 0.,  ..., 0., 0., 0.],\n",
      "        [0., 0., 0.,  ..., 0., 1., 0.],\n",
      "        [0., 0., 0.,  ..., 0., 0., 0.],\n",
      "        ...,\n",
      "        [1., 0., 0.,  ..., 0., 0., 0.],\n",
      "        [1., 0., 0.,  ..., 0., 1., 0.],\n",
      "        [0., 0., 0.,  ..., 0., 0., 0.]], dtype=torch.float64)\n"
     ]
    }
   ],
   "source": [
    "# Make sure path is correct\n",
    "df = pd.read_csv('C:/Projects/ClinBall/out1.tsv', sep='\\t')\n",
    "\n",
    "encoded = np.zeros((len(df), len(encoding_defn)))\n",
    "print(encoded.shape)\n",
    "with open('C:/Projects/ClinBall/out1.tsv', 'r') as f:\n",
    "    reader = csv.DictReader(f, delimiter='\\t')\n",
    "    for i, row in enumerate(reader):\n",
    "        for key, val in row.items():\n",
    "            if val == '.':\n",
    "                continue\n",
    "            # Fixme: Restrict possible clinvar values\n",
    "            if key == 'clinvar_clnsig' and val not in encoding_dict['clinvar_clnsig'].keys():\n",
    "                continue            \n",
    "            j = encoding_dict[key][val]\n",
    "            encoded[i][j] = 1\n",
    "print(encoded[0])\n",
    "\n",
    "torch_tensor = torch.tensor(encoded)\n",
    "\n",
    "# # printing out result\n",
    "print(torch_tensor)"
   ]
  },
  {
   "cell_type": "code",
   "execution_count": 2,
   "metadata": {},
   "outputs": [
    {
     "name": "stdout",
     "output_type": "stream",
     "text": [
      "Requirement already satisfied: numpy in c:\\users\\vincent\\appdata\\local\\programs\\python\\python37\\lib\\site-packages (1.16.2)"
     ]
    },
    {
     "name": "stderr",
     "output_type": "stream",
     "text": [
      "WARNING: You are using pip version 20.0.1; however, version 20.0.2 is available.\n",
      "You should consider upgrading via the 'c:\\users\\vincent\\appdata\\local\\programs\\python\\python37\\python.exe -m pip install --upgrade pip' command.\n"
     ]
    },
    {
     "name": "stdout",
     "output_type": "stream",
     "text": [
      "\n",
      "Requirement already satisfied: pandas in c:\\users\\vincent\\appdata\\local\\programs\\python\\python37\\lib\\site-packages (1.0.3)"
     ]
    },
    {
     "name": "stderr",
     "output_type": "stream",
     "text": [
      "WARNING: You are using pip version 20.0.1; however, version 20.0.2 is available.\n",
      "You should consider upgrading via the 'c:\\users\\vincent\\appdata\\local\\programs\\python\\python37\\python.exe -m pip install --upgrade pip' command.\n"
     ]
    },
    {
     "name": "stdout",
     "output_type": "stream",
     "text": [
      "\n",
      "Requirement already satisfied: python-dateutil>=2.6.1 in c:\\users\\vincent\\appdata\\local\\programs\\python\\python37\\lib\\site-packages (from pandas) (2.8.1)\n",
      "Requirement already satisfied: pytz>=2017.2 in c:\\users\\vincent\\appdata\\local\\programs\\python\\python37\\lib\\site-packages (from pandas) (2019.3)\n",
      "Requirement already satisfied: numpy>=1.13.3 in c:\\users\\vincent\\appdata\\local\\programs\\python\\python37\\lib\\site-packages (from pandas) (1.16.2)\n",
      "Requirement already satisfied: six>=1.5 in c:\\users\\vincent\\appdata\\roaming\\python\\python37\\site-packages (from python-dateutil>=2.6.1->pandas) (1.11.0)\n",
      "Requirement already satisfied: torch in c:\\users\\vincent\\appdata\\local\\programs\\python\\python37\\lib\\site-packages (1.4.0)\n"
     ]
    },
    {
     "name": "stderr",
     "output_type": "stream",
     "text": [
      "WARNING: You are using pip version 20.0.1; however, version 20.0.2 is available.\n",
      "You should consider upgrading via the 'c:\\users\\vincent\\appdata\\local\\programs\\python\\python37\\python.exe -m pip install --upgrade pip' command.\n"
     ]
    },
    {
     "name": "stdout",
     "output_type": "stream",
     "text": [
      "Requirement already satisfied: sklearn in c:\\users\\vincent\\appdata\\local\\programs\\python\\python37\\lib\\site-packages (0.0)"
     ]
    },
    {
     "name": "stderr",
     "output_type": "stream",
     "text": [
      "WARNING: You are using pip version 20.0.1; however, version 20.0.2 is available.\n",
      "You should consider upgrading via the 'c:\\users\\vincent\\appdata\\local\\programs\\python\\python37\\python.exe -m pip install --upgrade pip' command.\n"
     ]
    },
    {
     "name": "stdout",
     "output_type": "stream",
     "text": [
      "\n",
      "Requirement already satisfied: scikit-learn in c:\\users\\vincent\\appdata\\local\\programs\\python\\python37\\lib\\site-packages (from sklearn) (0.22.2.post1)\n",
      "Requirement already satisfied: scipy>=0.17.0 in c:\\users\\vincent\\appdata\\local\\programs\\python\\python37\\lib\\site-packages (from scikit-learn->sklearn) (1.2.1)\n",
      "Requirement already satisfied: numpy>=1.11.0 in c:\\users\\vincent\\appdata\\local\\programs\\python\\python37\\lib\\site-packages (from scikit-learn->sklearn) (1.16.2)\n",
      "Requirement already satisfied: joblib>=0.11 in c:\\users\\vincent\\appdata\\local\\programs\\python\\python37\\lib\\site-packages (from scikit-learn->sklearn) (0.14.1)\n"
     ]
    }
   ],
   "source": [
    "!pip install numpy \n",
    "!pip install pandas\n",
    "!pip install torch\n",
    "!pip install sklearn\n",
    "\n",
    "import numpy as np\n",
    "import pandas as pd\n",
    "import os\n",
    "import torch\n",
    "import torch.nn as nn\n",
    "import torch.nn.functional as F\n",
    "from sklearn.model_selection import train_test_split\n",
    "from sklearn.utils import shuffle\n",
    "from torch.utils.data import DataLoader, Dataset\n",
    "from torch.nn import functional as F\n",
    "from sklearn.metrics import accuracy_score"
   ]
  },
  {
   "cell_type": "code",
   "execution_count": 46,
   "metadata": {},
   "outputs": [
    {
     "name": "stdout",
     "output_type": "stream",
     "text": [
      "<bound method NDFrame.head of        SIFT_pred  LRT_pred  MutationTaster_pred  FATHMM_pred  clinvar_clnsig\n",
      "12702         -1         1                    1           -1              13\n",
      "12703         -1         1                    1           -1              17\n",
      "12704         -1         1                    1           -1              17\n",
      "12705          1         1                    1            1              17\n",
      "12706         -1         1                    1           -1              17\n",
      "...          ...       ...                  ...          ...             ...\n",
      "16931          1         2                    0            0              17\n",
      "16932          0         0                    0            0              17\n",
      "16933          0         0                    0            0              11\n",
      "16934          0        -1                    0            0              17\n",
      "16935         -1         0                    3           -1              11\n",
      "\n",
      "[4234 rows x 5 columns]>\n"
     ]
    }
   ],
   "source": [
    "df = pd.read_csv('C:/Projects/ClinBall/out1.tsv', sep='\\t')\n",
    "\n",
    "mapping = {\n",
    "    'SIFT_pred': {\n",
    "        'T': 0, \n",
    "        'D': 1,\n",
    "    },\n",
    "    'LRT_pred': {\n",
    "        'N': 0,\n",
    "        'D': 1,\n",
    "        'U': 2,\n",
    "    },\n",
    "    'MutationTaster_pred': {\n",
    "        'N': 0,\n",
    "        'D': 1,\n",
    "        'A': 2,\n",
    "        'P': 3,\n",
    "    },\n",
    "    'FATHMM_pred': {\n",
    "        'T': 0,\n",
    "        'D': 1,\n",
    "    }\n",
    "}\n",
    "clinvar_map = {\n",
    "    'clinvar_clnsig': {\n",
    "        'Benign': 11,\n",
    "        'Likely_benign': 12,\n",
    "        'Likely_pathogenic': 13,\n",
    "        'Pathogenic': 14,\n",
    "        'drug_response': 15,\n",
    "        'histocompatibility': 16,\n",
    "        'Uncertain_significance': 17,\n",
    "        'Conflicting_interpretations_of_pathogenicity': 18\n",
    "    }\n",
    "}\n",
    "\n",
    "df = df.replace({'.': -1})\n",
    "df = df.replace(mapping)\n",
    "df = df.replace(clinvar_map)\n",
    "df = df.replace({'\\D': -1}, regex=True)\n",
    "\n",
    "drop_cols = ['clinvar_clnsig']\n",
    "# df = df.drop(drop_cols, axis=1)\n",
    "\n",
    "features = df.columns.tolist()\n",
    "\n",
    "train, test = train_test_split(df, shuffle=False)\n",
    "print(test.head)"
   ]
  },
  {
   "cell_type": "code",
   "execution_count": 47,
   "metadata": {},
   "outputs": [],
   "source": [
    "class DataLoaderdbNSFP(Dataset):\n",
    "    def __init__(self, data):\n",
    "        self.data = torch.FloatTensor(data.values.astype('float'))\n",
    "        \n",
    "    def __len__(self):\n",
    "        return len(self.data)\n",
    "    def __getitem__(self, index):\n",
    "            target = self.data[index][-1]\n",
    "            data_val = self.data[index] [:-1]\n",
    "            return data_val,target\n",
    "train_dataset = DataLoaderdbNSFP(train)\n",
    "valid_dataset = DataLoaderdbNSFP(test)"
   ]
  },
  {
   "cell_type": "code",
   "execution_count": 51,
   "metadata": {},
   "outputs": [
    {
     "name": "stdout",
     "output_type": "stream",
     "text": [
      "<torch.utils.data.dataloader.DataLoader object at 0x000002068534D550>\n"
     ]
    }
   ],
   "source": [
    "train_loader = DataLoader(train_dataset, batch_size=1000, shuffle=True)\n",
    "print(train_loader)"
   ]
  },
  {
   "cell_type": "code",
   "execution_count": null,
   "metadata": {},
   "outputs": [],
   "source": []
  }
 ],
 "metadata": {
  "kernelspec": {
   "display_name": "Python 3",
   "language": "python",
   "name": "python3"
  },
  "language_info": {
   "codemirror_mode": {
    "name": "ipython",
    "version": 3
   },
   "file_extension": ".py",
   "mimetype": "text/x-python",
   "name": "python",
   "nbconvert_exporter": "python",
   "pygments_lexer": "ipython3",
   "version": "3.7.2"
  }
 },
 "nbformat": 4,
 "nbformat_minor": 4
}
