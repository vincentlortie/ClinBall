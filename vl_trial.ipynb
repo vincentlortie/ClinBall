{
 "cells": [
  {
   "cell_type": "markdown",
   "metadata": {},
   "source": [
    "### Imports"
   ]
  },
  {
   "cell_type": "code",
   "execution_count": 4,
   "metadata": {},
   "outputs": [
    {
     "name": "stdout",
     "output_type": "stream",
     "text": [
      "Requirement already satisfied: pandas in c:\\users\\vincent\\appdata\\local\\programs\\python\\python37\\lib\\site-packages (1.0.3)"
     ]
    },
    {
     "name": "stderr",
     "output_type": "stream",
     "text": [
      "WARNING: You are using pip version 20.0.1; however, version 20.0.2 is available.\n",
      "You should consider upgrading via the 'c:\\users\\vincent\\appdata\\local\\programs\\python\\python37\\python.exe -m pip install --upgrade pip' command.\n"
     ]
    },
    {
     "name": "stdout",
     "output_type": "stream",
     "text": [
      "\n",
      "Requirement already satisfied: pytz>=2017.2 in c:\\users\\vincent\\appdata\\local\\programs\\python\\python37\\lib\\site-packages (from pandas) (2019.3)\n",
      "Requirement already satisfied: python-dateutil>=2.6.1 in c:\\users\\vincent\\appdata\\local\\programs\\python\\python37\\lib\\site-packages (from pandas) (2.8.1)\n",
      "Requirement already satisfied: numpy>=1.13.3 in c:\\users\\vincent\\appdata\\local\\programs\\python\\python37\\lib\\site-packages (from pandas) (1.16.2)\n",
      "Requirement already satisfied: six>=1.5 in c:\\users\\vincent\\appdata\\roaming\\python\\python37\\site-packages (from python-dateutil>=2.6.1->pandas) (1.11.0)\n",
      "Requirement already satisfied: torch in c:\\users\\vincent\\appdata\\local\\programs\\python\\python37\\lib\\site-packages (1.4.0)"
     ]
    },
    {
     "name": "stderr",
     "output_type": "stream",
     "text": [
      "WARNING: You are using pip version 20.0.1; however, version 20.0.2 is available.\n",
      "You should consider upgrading via the 'c:\\users\\vincent\\appdata\\local\\programs\\python\\python37\\python.exe -m pip install --upgrade pip' command.\n"
     ]
    },
    {
     "name": "stdout",
     "output_type": "stream",
     "text": [
      "\n"
     ]
    },
    {
     "name": "stderr",
     "output_type": "stream",
     "text": [
      "WARNING: You are using pip version 20.0.1; however, version 20.0.2 is available.\n",
      "You should consider upgrading via the 'c:\\users\\vincent\\appdata\\local\\programs\\python\\python37\\python.exe -m pip install --upgrade pip' command.\n"
     ]
    },
    {
     "name": "stdout",
     "output_type": "stream",
     "text": [
      "Requirement already satisfied: numpy in c:\\users\\vincent\\appdata\\local\\programs\\python\\python37\\lib\\site-packages (1.16.2)\n"
     ]
    }
   ],
   "source": [
    "! pip install pandas\n",
    "! pip install torch\n",
    "! pip install numpy\n",
    "\n",
    "import pandas as pd\n",
    "import numpy as np\n",
    "import torch\n",
    "import csv\n"
   ]
  },
  {
   "cell_type": "code",
   "execution_count": 5,
   "metadata": {},
   "outputs": [],
   "source": [
    "encoding_defn = ['FATHMM_T', 'FATHMM_D', \n",
    "                 'MT_A', 'MT_D','MT_N', 'MT_P', \n",
    "                 'SIFT_T', 'SIFT_D', \n",
    "                 'LRT_D', 'LRT_N', 'LRT_U',\n",
    "                 'CV_B', 'CV_LB', 'CV_LP', 'CV_P', 'CV_DR', 'CV_H', 'CV_US', 'CV_CIP']\n",
    "\n",
    "encoding_dict = {\n",
    "    'FATHMM_pred': {\n",
    "        'T': 0,\n",
    "        'D': 1\n",
    "    },\n",
    "    'MutationTaster_pred': {\n",
    "        'A': 2,\n",
    "        'D': 3,\n",
    "        'N': 4,\n",
    "        'P': 5\n",
    "    },\n",
    "    'SIFT_pred': {\n",
    "        'T': 6,\n",
    "        'D': 7\n",
    "    },\n",
    "    'LRT_pred': {\n",
    "        'D': 8,\n",
    "        'N': 9,\n",
    "        'U': 10,\n",
    "    },\n",
    "    'clinvar_clnsig': {\n",
    "        'Benign': 11,\n",
    "        'Likely_benign': 12,\n",
    "        'Likely_pathogenic': 13,\n",
    "        'Pathogenic': 14,\n",
    "        'drug_response': 15,\n",
    "        'histocompatibility': 16,\n",
    "        'Uncertain_significance': 17,\n",
    "        'Conflicting_interpretations_of_pathogenicity': 18\n",
    "    }\n",
    "}\n"
   ]
  },
  {
   "cell_type": "code",
   "execution_count": 6,
   "metadata": {},
   "outputs": [
    {
     "name": "stdout",
     "output_type": "stream",
     "text": [
      "(16936, 19)\n",
      "[0. 0. 0. 0. 1. 0. 0. 0. 0. 1. 0. 1. 0. 0. 0. 0. 0. 0. 0.]\n",
      "tensor([[0., 0., 0.,  ..., 0., 0., 0.],\n",
      "        [0., 0., 0.,  ..., 0., 1., 0.],\n",
      "        [0., 0., 0.,  ..., 0., 0., 0.],\n",
      "        ...,\n",
      "        [1., 0., 0.,  ..., 0., 0., 0.],\n",
      "        [1., 0., 0.,  ..., 0., 1., 0.],\n",
      "        [0., 0., 0.,  ..., 0., 0., 0.]], dtype=torch.float64)\n"
     ]
    }
   ],
   "source": [
    "# Make sure path is correct\n",
    "df = pd.read_csv('C:/Projects/ClinBall/out1.tsv', sep='\\t')\n",
    "\n",
    "encoded = np.zeros((len(df), len(encoding_defn)))\n",
    "print(encoded.shape)\n",
    "with open('C:/Projects/ClinBall/out1.tsv', 'r') as f:\n",
    "    reader = csv.DictReader(f, delimiter='\\t')\n",
    "    for i, row in enumerate(reader):\n",
    "        for key, val in row.items():\n",
    "            if val == '.':\n",
    "                continue\n",
    "            # Fixme: Restrict possible clinvar values\n",
    "            if key == 'clinvar_clnsig' and val not in encoding_dict['clinvar_clnsig'].keys():\n",
    "                continue            \n",
    "            j = encoding_dict[key][val]\n",
    "            encoded[i][j] = 1\n",
    "print(encoded[0])\n",
    "\n",
    "torch_tensor = torch.tensor(encoded)\n",
    "\n",
    "# # printing out result\n",
    "print(torch_tensor)"
   ]
  },
  {
   "cell_type": "code",
   "execution_count": null,
   "metadata": {},
   "outputs": [],
   "source": []
  },
  {
   "cell_type": "code",
   "execution_count": null,
   "metadata": {},
   "outputs": [],
   "source": []
  }
 ],
 "metadata": {
  "kernelspec": {
   "display_name": "Python 3",
   "language": "python",
   "name": "python3"
  },
  "language_info": {
   "codemirror_mode": {
    "name": "ipython",
    "version": 3
   },
   "file_extension": ".py",
   "mimetype": "text/x-python",
   "name": "python",
   "nbconvert_exporter": "python",
   "pygments_lexer": "ipython3",
   "version": "3.7.2"
  }
 },
 "nbformat": 4,
 "nbformat_minor": 4
}
