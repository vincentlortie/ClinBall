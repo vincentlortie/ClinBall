{
 "cells": [
  {
   "cell_type": "markdown",
   "metadata": {},
   "source": [
    "##### Polyphen chromosomes 2, 3, 4 \n",
    "\n",
    "## In this notebook:\n",
    "\n",
    "* single input dataframe \n",
    "* random forest\n"
   ]
  },
  {
   "cell_type": "code",
   "execution_count": 1,
   "metadata": {},
   "outputs": [
    {
     "name": "stdout",
     "output_type": "stream",
     "text": [
      "shape before (13825, 2)\n",
      "shape after dropping all data with score = '.' (13825, 2)\n",
      "shape after dropping Unk (13825, 2)\n"
     ]
    }
   ],
   "source": [
    "import torch\n",
    "import pandas as pd\n",
    "import numpy as np\n",
    "\n",
    "# using sklearn goodies\n",
    "import matplotlib.pyplot as plt\n",
    "from sklearn.svm import SVC\n",
    "from sklearn.ensemble import RandomForestClassifier\n",
    "from sklearn.metrics import plot_roc_curve\n",
    "from sklearn.datasets import load_wine\n",
    "from sklearn.model_selection import train_test_split\n",
    "\n",
    "\n",
    "## pull in pickled dataframe:\n",
    "df = pd.read_pickle(\"./pickled/chr2-4_mutationtaster.pkl\")\n",
    "\n",
    "\n",
    "\n",
    "print(\"shape before\", df.shape)\n",
    "df = df.replace({'.': 0})  ## FIXME: atm replace with nan and drop: later find a way to impute, maybe 0 but not sure\n",
    "#print(\"SUM\", pd.isnull(df).sum())  ## Use this to see how many elements have nan \n",
    "df = df.dropna()\n",
    "print(\"shape after dropping all data with score = '.'\", df.shape)\n",
    "#print(df.head())\n",
    "\n",
    "## still contains some mixed labels, see them by: df[~df['clinvar_clnsig'].isin(list(clinvar_labels.keys()))]\n",
    "\n",
    "## Map labels to 1/0 and remove Unkn\n",
    "clinvar_labels={\n",
    "    'Pathogenic': 1,\n",
    "    'Likely_pathogenic': 1,\n",
    "    'Pathogenic/Likely_pathogenic': 1,\n",
    "    'Benign/Likely_benign': 0,\n",
    "    'Likely_benign': 0,\n",
    "    'Benign': 0\n",
    "}\n",
    "\n",
    "#df.head()\n",
    "#df = df[df['clinvar_clnsig'].isin(list(clinvar_labels.keys()))]  # best to drop everything that isn't in the dict\n",
    "#df['Problematic'] = df['clinvar_clnsig'].map(clinvar_labels)\n",
    "\n",
    "#df= df.drop(columns=['clinvar_clnsig'])#, 'clinvar_id'])  #tbh, I don't know why I kept them. consider adding to index\n",
    "\n",
    "df = df.replace({'-': 0}) \n",
    "print(\"shape after dropping Unk\", df.shape)\n",
    "#df.head()\n",
    "\n",
    "### pickle to reuse dataframe:\n",
    "#df.to_pickle(\"./pickled_df/all_scores_chr18,20.pkl\")\n"
   ]
  },
  {
   "cell_type": "code",
   "execution_count": 2,
   "metadata": {},
   "outputs": [
    {
     "name": "stdout",
     "output_type": "stream",
     "text": [
      "Training data subset\n",
      "\n",
      "                      MutationTaster_score  Problematic\n",
      "chr pos       ref alt                                  \n",
      "3   52348985  G   A                      1            0\n",
      "    43080047  C   A               0.995994            0\n",
      "2   202530865 T   C                      1            1\n",
      "\n",
      "Test data subset\n",
      "\n",
      "                    MutationTaster_score  Problematic\n",
      "chr pos     ref alt                                  \n",
      "2   277003  A   G               0.588298            0\n",
      "    1477383 G   T                      1            0\n",
      "    1496098 A   G                      1            0\n"
     ]
    }
   ],
   "source": [
    "## Split into train/test\n",
    "data_copy = df.copy()\n",
    "df_train = data_copy.sample(frac=0.75, random_state=1)\n",
    "df_test = data_copy.drop(df_train.index)\n",
    "\n",
    "print ('Training data subset\\n')\n",
    "print (df_train.head(3))  # head default n=5, first 3 is enough\n",
    "print ('\\nTest data subset\\n')\n",
    "print (df_test.head(3))\n",
    "\n",
    "\n",
    "## Get label:\n",
    "train_labels = df_train.pop('Problematic')  # replace with clinvar when column is available\n",
    "test_labels = df_test.pop('Problematic')"
   ]
  },
  {
   "cell_type": "code",
   "execution_count": 3,
   "metadata": {},
   "outputs": [
    {
     "data": {
      "image/png": "[encoded data removed]",
      "text/plain": [
       "<Figure size 432x288 with 1 Axes>"
      ]
     },
     "metadata": {
      "needs_background": "light"
     },
     "output_type": "display_data"
    },
    {
     "name": "stdout",
     "output_type": "stream",
     "text": [
      "Confusion matrix: \n",
      " [[ 321  637]\n",
      " [ 151 2304]]\n",
      "Accuracy: 0.7691180779372986\n",
      "Recall TP/(TP+FN): [0.33507307 0.93849287]\n",
      "Precision TP/(TP+FP): [0.68008475 0.783407  ]\n",
      "F1: [0.44895105 0.8539659 ]\n",
      "Feature ranking:\n",
      "1. feature 0 (1.000000)\n",
      "MutationTaster_score\n"
     ]
    },
    {
     "data": {
      "image/png": "[encoded data removed]",
      "text/plain": [
       "<Figure size 432x288 with 1 Axes>"
      ]
     },
     "metadata": {
      "needs_background": "light"
     },
     "output_type": "display_data"
    }
   ],
   "source": [
    "# Try a random forest:\n",
    "\n",
    "forest = RandomForestClassifier(n_estimators=1000, random_state=42)\n",
    "forest.fit(df_train, train_labels)\n",
    "ax = plt.gca()\n",
    "rfc_disp = plot_roc_curve(forest, df_test, test_labels, ax=ax, alpha=0.8)\n",
    "#svc_disp.plot(ax=ax, alpha=0.8) ## if you want to plot both svm and rf\n",
    "plt.show()\n",
    "\n",
    "## metrics:\n",
    "y_true = test_labels.to_numpy()\n",
    "y_pred = forest.predict(df_test)\n",
    "\n",
    "# Confusion Matrix\n",
    "from sklearn.metrics import confusion_matrix\n",
    "print(\"Confusion matrix: \\n\", confusion_matrix(y_true, y_pred))\n",
    "\n",
    "# Accuracy\n",
    "from sklearn.metrics import accuracy_score\n",
    "print(\"Accuracy:\", accuracy_score(y_true, y_pred))\n",
    "\n",
    "# Recall\n",
    "from sklearn.metrics import recall_score\n",
    "recall = recall_score(y_true, y_pred, average=None)\n",
    "print(\"Recall TP/(TP+FN):\", recall)\n",
    "\n",
    "# Precision\n",
    "from sklearn.metrics import precision_score\n",
    "precision = precision_score(y_true, y_pred, average=None)\n",
    "print(\"Precision TP/(TP+FP):\",precision)\n",
    "\n",
    "\n",
    "# F1 score\n",
    "F1 = 2 * (precision * recall) / (precision + recall)\n",
    "print(\"F1:\", F1)\n",
    "\n",
    "## Get at and plot the feature importance (tutorial: https://scikit-learn.org/stable/auto_examples/ensemble/plot_forest_importances.html)\n",
    "feature_labels = list(df_train) # columns names\n",
    "importances = forest.feature_importances_\n",
    "std = np.std([tree.feature_importances_ for tree in forest.estimators_],\n",
    "             axis=0)\n",
    "indices = np.argsort(importances)[::-1]\n",
    "# Print the feature ranking\n",
    "print(\"Feature ranking:\")\n",
    "\n",
    "for f in range(df_train.shape[1]):\n",
    "    print(\"%d. feature %d (%f)\" % (f + 1, indices[f], importances[indices[f]]))\n",
    "    print(feature_labels[indices[f]])\n",
    "\n",
    "    \n",
    "# Plot the feature importances of the forest\n",
    "plt.figure()\n",
    "plt.title(\"Feature importances\")\n",
    "plt.bar(range(df_train.shape[1]), importances[indices],\n",
    "       color=\"r\", yerr=std[indices], align=\"center\")\n",
    "plt.xticks(range(df_train.shape[1]), labels=df_train.columns[indices], rotation=90)\n",
    "plt.xlim([-1, df_train.shape[1]])\n",
    "plt.show()"
   ]
  },
  {
   "cell_type": "markdown",
   "metadata": {},
   "source": [
    "### result of exp 11: n=10\n",
    "Confusion matrix: \n",
    " [[ 733  243]\n",
    " [ 251 2186]]\n",
    "Accuracy: 0.855259302666276\n",
    "Recall TP/(TP+FN): [0.75102459 0.89700451]\n",
    "Precision TP/(TP+FP): [0.7449187  0.89995883]\n",
    "F1: [0.74795918 0.89847924]\n",
    "    \n",
    "    \n",
    "### result of exp 11: n=100\n",
    "Confusion matrix: \n",
    " [[ 687  289]\n",
    " [ 196 2241]]\n",
    "Accuracy: 0.8578962789334896\n",
    "Recall TP/(TP+FN): [0.70389344 0.91957325]\n",
    "Precision TP/(TP+FP): [0.77802945 0.88577075]\n",
    "F1: [0.73910705 0.90235555]\n",
    "\n",
    "\n",
    "### result of exp 11: n=1000\n",
    "Confusion matrix: \n",
    " [[ 692  284]\n",
    " [ 191 2246]]\n",
    "Accuracy: 0.8608262525637269\n",
    "Recall TP/(TP+FN): [0.70901639 0.92162495]\n",
    "Precision TP/(TP+FP): [0.78369196 0.88774704]\n",
    "F1: [0.74448628 0.90436883]\n",
    "\n",
    "### result of exp 11: n=1000 + balanced classes\n",
    "\n",
    "Confusion matrix: \n",
    " [[ 676  300]\n",
    " [ 182 2255]]\n",
    "Accuracy: 0.8587752710225608\n",
    "Recall TP/(TP+FN): [0.69262295 0.92531801]\n",
    "Precision TP/(TP+FP): [0.78787879 0.88258317]\n",
    "F1: [0.73718648 0.90344551]"
   ]
  }
 ],
 "metadata": {
  "kernelspec": {
   "display_name": "Python 3",
   "language": "python",
   "name": "python3"
  },
  "language_info": {
   "codemirror_mode": {
    "name": "ipython",
    "version": 3
   },
   "file_extension": ".py",
   "mimetype": "text/x-python",
   "name": "python",
   "nbconvert_exporter": "python",
   "pygments_lexer": "ipython3",
   "version": "3.7.2"
  }
 },
 "nbformat": 4,
 "nbformat_minor": 2
}
