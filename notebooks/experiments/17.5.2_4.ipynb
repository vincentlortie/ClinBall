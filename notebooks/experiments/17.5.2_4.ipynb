{
 "cells": [
  {
   "cell_type": "markdown",
   "metadata": {},
   "source": [
    "##### feature set 5 chromosomes 2, 3, 4 \n",
    "\n",
    "## In this notebook:\n",
    "\n",
    "* single input dataframe \n",
    "* using feature set 4 \n",
    "* model: SVM\n",
    "* only training/test split, no epochs \n",
    "* aucuracy assessement of SVM:  0.74 (rbf)"
   ]
  },
  {
   "cell_type": "code",
   "execution_count": 1,
   "metadata": {},
   "outputs": [],
   "source": [
    "#!pip install torch\n",
    "#!pip install pandas\n",
    "#!pip install numpy\n",
    "#!pip install sklearn\n",
    "#!pip install matplotlib"
   ]
  },
  {
   "cell_type": "code",
   "execution_count": 2,
   "metadata": {},
   "outputs": [
    {
     "data": {
      "text/plain": [
       "(13820, 14)"
      ]
     },
     "execution_count": 2,
     "metadata": {},
     "output_type": "execute_result"
    }
   ],
   "source": [
    "import torch\n",
    "import pandas as pd\n",
    "import numpy as np\n",
    "\n",
    "# using sklearn goodies\n",
    "import matplotlib.pyplot as plt\n",
    "from sklearn.svm import SVC\n",
    "from sklearn.ensemble import RandomForestClassifier\n",
    "from sklearn.metrics import plot_roc_curve\n",
    "from sklearn.datasets import load_wine\n",
    "from sklearn.model_selection import train_test_split\n",
    "\n",
    "\n",
    "## pull in pickled dataframe:\n",
    "df = pd.read_pickle(\"./pickled/chr2-4_featureset5.pkl\")\n",
    "df.shape # 13734, 17\n"
   ]
  },
  {
   "cell_type": "code",
   "execution_count": 3,
   "metadata": {},
   "outputs": [
    {
     "name": "stdout",
     "output_type": "stream",
     "text": [
      "Training data subset\n",
      "\n",
      "                       aapos codonpos  Polyphen2_HVAR_pred   GenoCanyon_score  \\\n",
      "chr pos       ref alt                                                           \n",
      "2   222220292 G   A      341        1                    0  0.999999999414244   \n",
      "4   95114733  T   C       53        1                   -2  0.999999997815507   \n",
      "2   178694626 C   T    10150        1                    0  0.999728534038663   \n",
      "\n",
      "                      LINSIGHT    RVIS_ExAC       ExAC_cnv.score  \\\n",
      "chr pos       ref alt                                              \n",
      "2   222220292 G   A          0  0.126609025     1.41369465212203   \n",
      "4   95114733  T   C          0  -0.03818213  -0.0678400328187906   \n",
      "2   178694626 C   T          0  3.161811341                    0   \n",
      "\n",
      "                       SORVA_LOF_MAF0.005_HetOrHom  Problematic  Mutation<1kb  \\\n",
      "chr pos       ref alt                                                           \n",
      "2   222220292 G   A                       0.001198            1             3   \n",
      "4   95114733  T   C                       0.001198            1             1   \n",
      "2   178694626 C   T                       0.017173            0             2   \n",
      "\n",
      "                       Mutation<5kb  Mutation<10kb  Mutation<30kb  \\\n",
      "chr pos       ref alt                                               \n",
      "2   222220292 G   A               6              6             18   \n",
      "4   95114733  T   C               2              4             12   \n",
      "2   178694626 C   T               7             18             98   \n",
      "\n",
      "                       Mutation<100kb  \n",
      "chr pos       ref alt                  \n",
      "2   222220292 G   A                41  \n",
      "4   95114733  T   C                16  \n",
      "2   178694626 C   T               486  \n",
      "\n",
      "Test data subset\n",
      "\n",
      "                     aapos codonpos  Polyphen2_HVAR_pred     GenoCanyon_score  \\\n",
      "chr pos     ref alt                                                             \n",
      "2   277003  A   G      106        2                    1      0.9777236555582   \n",
      "    1477383 G   T      373        1                    1  0.00235440757137344   \n",
      "    1496098 A   G      706        1                    1    0.999995654489285   \n",
      "\n",
      "                    LINSIGHT     RVIS_ExAC     ExAC_cnv.score  \\\n",
      "chr pos     ref alt                                             \n",
      "2   277003  A   G          0  -0.080196141  -1.38628707843331   \n",
      "    1477383 G   T          0   0.064587428  -2.47162789907313   \n",
      "    1496098 A   G          0   0.064587428  -2.47162789907313   \n",
      "\n",
      "                     SORVA_LOF_MAF0.005_HetOrHom  Problematic  Mutation<1kb  \\\n",
      "chr pos     ref alt                                                           \n",
      "2   277003  A   G                       0.000399            0             1   \n",
      "    1477383 G   T                       0.004792            0             2   \n",
      "    1496098 A   G                       0.004792            0             4   \n",
      "\n",
      "                     Mutation<5kb  Mutation<10kb  Mutation<30kb  \\\n",
      "chr pos     ref alt                                               \n",
      "2   277003  A   G               1              1              1   \n",
      "    1477383 G   T               2              5             18   \n",
      "    1496098 A   G               8             12             18   \n",
      "\n",
      "                     Mutation<100kb  \n",
      "chr pos     ref alt                  \n",
      "2   277003  A   G                 5  \n",
      "    1477383 G   T                19  \n",
      "    1496098 A   G                19  \n"
     ]
    }
   ],
   "source": [
    "## Split into train/test\n",
    "data_copy = df.copy()\n",
    "df_train = data_copy.sample(frac=0.75, random_state=1)\n",
    "df_test = data_copy.drop(df_train.index)\n",
    "\n",
    "print ('Training data subset\\n')\n",
    "print (df_train.head(3))  # head default n=5, first 3 is enough\n",
    "print ('\\nTest data subset\\n')\n",
    "print (df_test.head(3))\n",
    "\n",
    "\n",
    "## Get label:\n",
    "train_labels = df_train.pop('Problematic')  # replace with clinvar when column is available\n",
    "test_labels = df_test.pop('Problematic')"
   ]
  },
  {
   "cell_type": "code",
   "execution_count": 4,
   "metadata": {},
   "outputs": [
    {
     "data": {
      "image/png": "[encoded data removed]",
      "text/plain": [
       "<Figure size 432x288 with 1 Axes>"
      ]
     },
     "metadata": {
      "needs_background": "light"
     },
     "output_type": "display_data"
    },
    {
     "name": "stdout",
     "output_type": "stream",
     "text": [
      "y true [0 0 0 ... 1 1 1]\n",
      "y predicted [1 1 1 ... 1 1 1]\n",
      "Confusion matrix: \n",
      " [[ 157  819]\n",
      " [  50 2387]]\n",
      "Accuracy: 0.7453852915323762\n",
      "Recall TP/(TP+FN): [0.16086066 0.97948297]\n",
      "Precision TP/(TP+FP): [0.75845411 0.74454148]\n",
      "F1: [0.26542688 0.8460039 ]\n"
     ]
    }
   ],
   "source": [
    "## Try a binary support vector machine:\n",
    "\n",
    "classifier1 = SVC(kernel='rbf', gamma='scale',random_state=42) # default for kernel and gamma. AUC = 0.94\n",
    "#classifier2 = SVC(kernel='linear', gamma=10 ,random_state=42) # 0.94\n",
    "#classifier3 = SVC(kernel='sigmoid', gamma=10 ,random_state=42) # 0.82\n",
    "\n",
    "classifier1.fit(df_train, train_labels)\n",
    "svc_disp = plot_roc_curve(classifier1, df_test, test_labels)\n",
    "plt.show()\n",
    "\n",
    "\n",
    "### Run some stats to see if the model is doing well. \n",
    "### Note: for chr20, there are 696 exampels that pass, meaning 25% used for testing gives low numbers, see cm\n",
    "y_true = test_labels.to_numpy()\n",
    "y_pred = classifier1.predict(df_test)\n",
    "\n",
    "\n",
    "print(\"y true\", y_true) ## These are both numpy arrays now, why are the metrics returning arrays rather than single f\n",
    "print(\"y predicted\", y_pred)\n",
    "\n",
    "## see https://scikit-learn.org/stable/modules/generated/sklearn.metrics.recall_score.html?highlight=recall_score\n",
    "\n",
    "# Confusion Matrix\n",
    "from sklearn.metrics import confusion_matrix\n",
    "print(\"Confusion matrix: \\n\", confusion_matrix(y_true, y_pred))\n",
    "\n",
    "# Accuracy\n",
    "from sklearn.metrics import accuracy_score\n",
    "print(\"Accuracy:\", accuracy_score(y_true, y_pred))\n",
    "\n",
    "# Recall\n",
    "from sklearn.metrics import recall_score\n",
    "recall = recall_score(y_true, y_pred, average=None)\n",
    "print(\"Recall TP/(TP+FN):\", recall)\n",
    "\n",
    "# Precision\n",
    "from sklearn.metrics import precision_score\n",
    "precision = precision_score(y_true, y_pred, average=None)\n",
    "print(\"Precision TP/(TP+FP):\",precision)\n",
    "#recall: 195 / 195+552 = 195/747 = 0.261\n",
    "#precision: 195 / 195+132 = 195/327 =0.596\n",
    "\n",
    "# F1 score\n",
    "F1 = 2 * (precision * recall) / (precision + recall)\n",
    "print(\"F1:\", F1)"
   ]
  },
  {
   "cell_type": "code",
   "execution_count": null,
   "metadata": {},
   "outputs": [],
   "source": []
  }
 ],
 "metadata": {
  "kernelspec": {
   "display_name": "Python 3",
   "language": "python",
   "name": "python3"
  },
  "language_info": {
   "codemirror_mode": {
    "name": "ipython",
    "version": 3
   },
   "file_extension": ".py",
   "mimetype": "text/x-python",
   "name": "python",
   "nbconvert_exporter": "python",
   "pygments_lexer": "ipython3",
   "version": "3.7.2"
  }
 },
 "nbformat": 4,
 "nbformat_minor": 2
}
