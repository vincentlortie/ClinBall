{
 "cells": [
  {
   "cell_type": "markdown",
   "metadata": {},
   "source": [
    "# feature set 2 chromosomes 2, 3, 4 \n",
    "\n",
    "## In this notebook:\n",
    "\n",
    "* single input dataframe \n",
    "* using feature set 2\n",
    "* random forest\n",
    "* only training/test split, no epochs \n",
    "* aucuracy assessement of RF: \n",
    "* feature importance for RF (mostly just amino acid position)"
   ]
  },
  {
   "cell_type": "code",
   "execution_count": 4,
   "metadata": {},
   "outputs": [
    {
     "name": "stdout",
     "output_type": "stream",
     "text": [
      "shape before (13734, 12)\n",
      "shape after dropping all data with score = '.' (13734, 12)\n",
      "shape after dropping Unk (13734, 12)\n"
     ]
    }
   ],
   "source": [
    "import torch\n",
    "import pandas as pd\n",
    "import numpy as np\n",
    "\n",
    "# using sklearn goodies\n",
    "import matplotlib.pyplot as plt\n",
    "from sklearn.svm import SVC\n",
    "from sklearn.ensemble import RandomForestClassifier\n",
    "from sklearn.metrics import plot_roc_curve\n",
    "from sklearn.datasets import load_wine\n",
    "from sklearn.model_selection import train_test_split\n",
    "\n",
    "\n",
    "## pull in pickled dataframe:\n",
    "df = pd.read_pickle(\"./pickled/chr2-4_featureset2.pkl\")\n",
    "\n",
    "\n",
    "\n",
    "print(\"shape before\", df.shape)\n",
    "df = df.replace({'.': 0})  ## FIXME: atm replace with nan and drop: later find a way to impute, maybe 0 but not sure\n",
    "#print(\"SUM\", pd.isnull(df).sum())  ## Use this to see how many elements have nan \n",
    "df = df.dropna()\n",
    "print(\"shape after dropping all data with score = '.'\", df.shape)\n",
    "#print(df.head())\n",
    "\n",
    "## still contains some mixed labels, see them by: df[~df['clinvar_clnsig'].isin(list(clinvar_labels.keys()))]\n",
    "\n",
    "## Map labels to 1/0 and remove Unkn\n",
    "clinvar_labels={\n",
    "    'Pathogenic': 1,\n",
    "    'Likely_pathogenic': 1,\n",
    "    'Pathogenic/Likely_pathogenic': 1,\n",
    "    'Benign/Likely_benign': 0,\n",
    "    'Likely_benign': 0,\n",
    "    'Benign': 0\n",
    "}\n",
    "\n",
    "#df.head()\n",
    "#df = df[df['clinvar_clnsig'].isin(list(clinvar_labels.keys()))]  # best to drop everything that isn't in the dict\n",
    "#df['Problematic'] = df['clinvar_clnsig'].map(clinvar_labels)\n",
    "\n",
    "#df= df.drop(columns=['clinvar_clnsig'])#, 'clinvar_id'])  #tbh, I don't know why I kept them. consider adding to index\n",
    "\n",
    "df = df.replace({'-': 0}) \n",
    "print(\"shape after dropping Unk\", df.shape)\n",
    "#df.head()\n",
    "\n",
    "### pickle to reuse dataframe:\n",
    "#df.to_pickle(\"./pickled_df/all_scores_chr18,20.pkl\")\n"
   ]
  },
  {
   "cell_type": "code",
   "execution_count": 5,
   "metadata": {},
   "outputs": [
    {
     "name": "stdout",
     "output_type": "stream",
     "text": [
      "Training data subset\n",
      "\n",
      "                       aapos  APPRIS TSL codonpos  Ancestral_allele  \\\n",
      "chr pos       ref alt                                                 \n",
      "4   169424635 G   A      950      -2   1        2                 2   \n",
      "3   49417816  A   G       -1       0   5        0                 1   \n",
      "2   165992011 T   C     1744      -1   5        2                 2   \n",
      "\n",
      "                      HUVEC_fitCons_score      ExAC_cnv.score         GDI  \\\n",
      "chr pos       ref alt                                                       \n",
      "4   169424635 G   A              0.655142   -0.77426984526488  1485.56231   \n",
      "3   49417816  A   G              0.089868   0.570050622052176   117.95799   \n",
      "2   165992011 T   C              0.564101  -0.670522875676554   148.17021   \n",
      "\n",
      "                      LoFtool_score  SORVA_LOF_MAF0.005_HetOrHom  \\\n",
      "chr pos       ref alt                                              \n",
      "4   169424635 G   A        9.68E-01                     0.001198   \n",
      "3   49417816  A   G        9.87E-02                     0.001597   \n",
      "2   165992011 T   C        1.38E-04                     0.000399   \n",
      "\n",
      "                       Essential_gene_CRISPR  Problematic  \n",
      "chr pos       ref alt                                      \n",
      "4   169424635 G   A                        1            1  \n",
      "3   49417816  A   G                        1            1  \n",
      "2   165992011 T   C                        1            1  \n",
      "\n",
      "Test data subset\n",
      "\n",
      "                     aapos  APPRIS TSL codonpos  Ancestral_allele  \\\n",
      "chr pos     ref alt                                                 \n",
      "2   277003  A   G      106       1   1        2                 2   \n",
      "    1477383 G   T      373       0   1        1                 2   \n",
      "    1496098 A   G      706       0   1        1                 2   \n",
      "\n",
      "                    HUVEC_fitCons_score     ExAC_cnv.score         GDI  \\\n",
      "chr pos     ref alt                                                      \n",
      "2   277003  A   G              0.714379  -1.38628707843331  2286.39399   \n",
      "    1477383 G   T              0.613276  -2.47162789907313  2837.88244   \n",
      "    1496098 A   G              0.613276  -2.47162789907313  2837.88244   \n",
      "\n",
      "                    LoFtool_score  SORVA_LOF_MAF0.005_HetOrHom  \\\n",
      "chr pos     ref alt                                              \n",
      "2   277003  A   G        9.67E-01                     0.000399   \n",
      "    1477383 G   T        8.54E-01                     0.004792   \n",
      "    1496098 A   G        8.54E-01                     0.004792   \n",
      "\n",
      "                     Essential_gene_CRISPR  Problematic  \n",
      "chr pos     ref alt                                      \n",
      "2   277003  A   G                        1            0  \n",
      "    1477383 G   T                        1            0  \n",
      "    1496098 A   G                        1            0  \n"
     ]
    }
   ],
   "source": [
    "## Split into train/test\n",
    "data_copy = df.copy()\n",
    "df_train = data_copy.sample(frac=0.75, random_state=1)\n",
    "df_test = data_copy.drop(df_train.index)\n",
    "\n",
    "print ('Training data subset\\n')\n",
    "print (df_train.head(3))  # head default n=5, first 3 is enough\n",
    "print ('\\nTest data subset\\n')\n",
    "print (df_test.head(3))\n",
    "\n",
    "\n",
    "## Get label:\n",
    "train_labels = df_train.pop('Problematic')  # replace with clinvar when column is available\n",
    "test_labels = df_test.pop('Problematic')"
   ]
  },
  {
   "cell_type": "code",
   "execution_count": 6,
   "metadata": {},
   "outputs": [
    {
     "data": {
      "image/png": "[encoded data removed]",
      "text/plain": [
       "<Figure size 432x288 with 1 Axes>"
      ]
     },
     "metadata": {
      "needs_background": "light"
     },
     "output_type": "display_data"
    },
    {
     "name": "stdout",
     "output_type": "stream",
     "text": [
      "Confusion matrix: \n",
      " [[ 611  349]\n",
      " [ 345 2085]]\n",
      "Accuracy: 0.7952802359882006\n",
      "Recall TP/(TP+FN): [0.63645833 0.85802469]\n",
      "Precision TP/(TP+FP): [0.63912134 0.85661463]\n",
      "F1: [0.63778706 0.85731908]\n",
      "Feature ranking:\n",
      "1. feature 0 (0.392474)\n",
      "aapos\n",
      "2. feature 7 (0.116983)\n",
      "GDI\n",
      "3. feature 8 (0.110783)\n",
      "LoFtool_score\n",
      "4. feature 5 (0.104868)\n",
      "HUVEC_fitCons_score\n",
      "5. feature 3 (0.076479)\n",
      "codonpos\n",
      "6. feature 6 (0.070936)\n",
      "ExAC_cnv.score\n",
      "7. feature 9 (0.048061)\n",
      "SORVA_LOF_MAF0.005_HetOrHom\n",
      "8. feature 1 (0.032034)\n",
      "APPRIS\n",
      "9. feature 2 (0.029953)\n",
      "TSL\n",
      "10. feature 10 (0.010158)\n",
      "Essential_gene_CRISPR\n",
      "11. feature 4 (0.007268)\n",
      "Ancestral_allele\n"
     ]
    },
    {
     "data": {
      "image/png": "[encoded data removed]",
      "text/plain": [
       "<Figure size 432x288 with 1 Axes>"
      ]
     },
     "metadata": {
      "needs_background": "light"
     },
     "output_type": "display_data"
    }
   ],
   "source": [
    "# Try a random forest:\n",
    "\n",
    "forest = RandomForestClassifier(n_estimators=10, random_state=42)\n",
    "forest.fit(df_train, train_labels)\n",
    "ax = plt.gca()\n",
    "rfc_disp = plot_roc_curve(forest, df_test, test_labels, ax=ax, alpha=0.8)\n",
    "#svc_disp.plot(ax=ax, alpha=0.8) ## if you want to plot both svm and rf\n",
    "plt.show()\n",
    "\n",
    "## metrics:\n",
    "y_true = test_labels.to_numpy()\n",
    "y_pred = forest.predict(df_test)\n",
    "\n",
    "# Confusion Matrix\n",
    "from sklearn.metrics import confusion_matrix\n",
    "print(\"Confusion matrix: \\n\", confusion_matrix(y_true, y_pred))\n",
    "\n",
    "# Accuracy\n",
    "from sklearn.metrics import accuracy_score\n",
    "print(\"Accuracy:\", accuracy_score(y_true, y_pred))\n",
    "\n",
    "# Recall\n",
    "from sklearn.metrics import recall_score\n",
    "recall = recall_score(y_true, y_pred, average=None)\n",
    "print(\"Recall TP/(TP+FN):\", recall)\n",
    "\n",
    "# Precision\n",
    "from sklearn.metrics import precision_score\n",
    "precision = precision_score(y_true, y_pred, average=None)\n",
    "print(\"Precision TP/(TP+FP):\",precision)\n",
    "\n",
    "\n",
    "# F1 score\n",
    "F1 = 2 * (precision * recall) / (precision + recall)\n",
    "print(\"F1:\", F1)\n",
    "\n",
    "## Get at and plot the feature importance (tutorial: https://scikit-learn.org/stable/auto_examples/ensemble/plot_forest_importances.html)\n",
    "feature_labels = list(df_train) # columns names\n",
    "importances = forest.feature_importances_\n",
    "std = np.std([tree.feature_importances_ for tree in forest.estimators_],\n",
    "             axis=0)\n",
    "indices = np.argsort(importances)[::-1]\n",
    "# Print the feature ranking\n",
    "print(\"Feature ranking:\")\n",
    "\n",
    "for f in range(df_train.shape[1]):\n",
    "    print(\"%d. feature %d (%f)\" % (f + 1, indices[f], importances[indices[f]]))\n",
    "    print(feature_labels[indices[f]])\n",
    "\n",
    "    \n",
    "# Plot the feature importances of the forest\n",
    "plt.figure()\n",
    "plt.title(\"Feature importances\")\n",
    "plt.bar(range(df_train.shape[1]), importances[indices],\n",
    "       color=\"r\", yerr=std[indices], align=\"center\")\n",
    "plt.xticks(range(df_train.shape[1]), labels=df_train.columns[indices], rotation=90)\n",
    "plt.xlim([-1, df_train.shape[1]])\n",
    "plt.show()"
   ]
  }
 ],
 "metadata": {
  "kernelspec": {
   "display_name": "Python 3",
   "language": "python",
   "name": "python3"
  },
  "language_info": {
   "codemirror_mode": {
    "name": "ipython",
    "version": 3
   },
   "file_extension": ".py",
   "mimetype": "text/x-python",
   "name": "python",
   "nbconvert_exporter": "python",
   "pygments_lexer": "ipython3",
   "version": "3.7.2"
  }
 },
 "nbformat": 4,
 "nbformat_minor": 2
}
