{
 "cells": [
  {
   "cell_type": "markdown",
   "metadata": {},
   "source": [
    "# feature set 3 chromosomes 2, 3, 4 \n",
    "\n",
    "## In this notebook:\n",
    "\n",
    "* single input dataframe \n",
    "* using feature set 3 (set 2 + mutation counts)\n",
    "* model: SVM\n",
    "* only training/test split, no epochs \n",
    "* aucuracy assessement of SVM:  0.74 (rbf)"
   ]
  },
  {
   "cell_type": "code",
   "execution_count": 21,
   "metadata": {},
   "outputs": [],
   "source": [
    "#!pip install torch\n",
    "#!pip install pandas\n",
    "#!pip install numpy\n",
    "#!pip install sklearn\n",
    "#!pip install matplotlib"
   ]
  },
  {
   "cell_type": "code",
   "execution_count": 3,
   "metadata": {},
   "outputs": [
    {
     "data": {
      "text/plain": [
       "(13734, 17)"
      ]
     },
     "execution_count": 3,
     "metadata": {},
     "output_type": "execute_result"
    }
   ],
   "source": [
    "import torch\n",
    "import pandas as pd\n",
    "import numpy as np\n",
    "\n",
    "# using sklearn goodies\n",
    "import matplotlib.pyplot as plt\n",
    "from sklearn.svm import SVC\n",
    "from sklearn.ensemble import RandomForestClassifier\n",
    "from sklearn.metrics import plot_roc_curve\n",
    "from sklearn.datasets import load_wine\n",
    "from sklearn.model_selection import train_test_split\n",
    "\n",
    "\n",
    "## pull in pickled dataframe:\n",
    "df = pd.read_pickle(\"./pickled/chr2-4_featureset3.pkl\")\n",
    "df.shape # 13734, 17\n"
   ]
  },
  {
   "cell_type": "code",
   "execution_count": 4,
   "metadata": {},
   "outputs": [
    {
     "name": "stdout",
     "output_type": "stream",
     "text": [
      "Training data subset\n",
      "\n",
      "                       aapos  APPRIS TSL codonpos  Ancestral_allele  \\\n",
      "chr pos       ref alt                                                 \n",
      "4   169424635 G   A      950      -2   1        2                 2   \n",
      "3   49417816  A   G       -1       0   5        0                 1   \n",
      "2   165992011 T   C     1744      -1   5        2                 2   \n",
      "\n",
      "                      HUVEC_fitCons_score      ExAC_cnv.score         GDI  \\\n",
      "chr pos       ref alt                                                       \n",
      "4   169424635 G   A              0.655142   -0.77426984526488  1485.56231   \n",
      "3   49417816  A   G              0.089868   0.570050622052176   117.95799   \n",
      "2   165992011 T   C              0.564101  -0.670522875676554   148.17021   \n",
      "\n",
      "                      LoFtool_score  SORVA_LOF_MAF0.005_HetOrHom  \\\n",
      "chr pos       ref alt                                              \n",
      "4   169424635 G   A        9.68E-01                     0.001198   \n",
      "3   49417816  A   G        9.87E-02                     0.001597   \n",
      "2   165992011 T   C        1.38E-04                     0.000399   \n",
      "\n",
      "                       Essential_gene_CRISPR  Problematic  Mutation<1kb  \\\n",
      "chr pos       ref alt                                                     \n",
      "4   169424635 G   A                        1            1             1   \n",
      "3   49417816  A   G                        1            1             3   \n",
      "2   165992011 T   C                        1            1           111   \n",
      "\n",
      "                       Mutation<5kb  Mutation<10kb  Mutation<30kb  \\\n",
      "chr pos       ref alt                                               \n",
      "4   169424635 G   A               2              2              5   \n",
      "3   49417816  A   G              23             23             23   \n",
      "2   165992011 T   C             141            165            253   \n",
      "\n",
      "                       Mutation<100kb  \n",
      "chr pos       ref alt                  \n",
      "4   169424635 G   A                31  \n",
      "3   49417816  A   G                35  \n",
      "2   165992011 T   C               524  \n",
      "\n",
      "Test data subset\n",
      "\n",
      "                     aapos  APPRIS TSL codonpos  Ancestral_allele  \\\n",
      "chr pos     ref alt                                                 \n",
      "2   277003  A   G      106       1   1        2                 2   \n",
      "    1477383 G   T      373       0   1        1                 2   \n",
      "    1496098 A   G      706       0   1        1                 2   \n",
      "\n",
      "                    HUVEC_fitCons_score     ExAC_cnv.score         GDI  \\\n",
      "chr pos     ref alt                                                      \n",
      "2   277003  A   G              0.714379  -1.38628707843331  2286.39399   \n",
      "    1477383 G   T              0.613276  -2.47162789907313  2837.88244   \n",
      "    1496098 A   G              0.613276  -2.47162789907313  2837.88244   \n",
      "\n",
      "                    LoFtool_score  SORVA_LOF_MAF0.005_HetOrHom  \\\n",
      "chr pos     ref alt                                              \n",
      "2   277003  A   G        9.67E-01                     0.000399   \n",
      "    1477383 G   T        8.54E-01                     0.004792   \n",
      "    1496098 A   G        8.54E-01                     0.004792   \n",
      "\n",
      "                     Essential_gene_CRISPR  Problematic  Mutation<1kb  \\\n",
      "chr pos     ref alt                                                     \n",
      "2   277003  A   G                        1            0             1   \n",
      "    1477383 G   T                        1            0             2   \n",
      "    1496098 A   G                        1            0             4   \n",
      "\n",
      "                     Mutation<5kb  Mutation<10kb  Mutation<30kb  \\\n",
      "chr pos     ref alt                                               \n",
      "2   277003  A   G               1              1              1   \n",
      "    1477383 G   T               2              5             18   \n",
      "    1496098 A   G               8             12             18   \n",
      "\n",
      "                     Mutation<100kb  \n",
      "chr pos     ref alt                  \n",
      "2   277003  A   G                 5  \n",
      "    1477383 G   T                19  \n",
      "    1496098 A   G                19  \n"
     ]
    }
   ],
   "source": [
    "## Split into train/test\n",
    "data_copy = df.copy()\n",
    "df_train = data_copy.sample(frac=0.75, random_state=1)\n",
    "df_test = data_copy.drop(df_train.index)\n",
    "\n",
    "print ('Training data subset\\n')\n",
    "print (df_train.head(3))  # head default n=5, first 3 is enough\n",
    "print ('\\nTest data subset\\n')\n",
    "print (df_test.head(3))\n",
    "\n",
    "\n",
    "## Get label:\n",
    "train_labels = df_train.pop('Problematic')  # replace with clinvar when column is available\n",
    "test_labels = df_test.pop('Problematic')"
   ]
  },
  {
   "cell_type": "code",
   "execution_count": 5,
   "metadata": {},
   "outputs": [
    {
     "data": {
      "image/png": "[encoded data removed]",
      "text/plain": [
       "<Figure size 432x288 with 1 Axes>"
      ]
     },
     "metadata": {
      "needs_background": "light"
     },
     "output_type": "display_data"
    },
    {
     "name": "stdout",
     "output_type": "stream",
     "text": [
      "y true [0 0 0 ... 1 1 1]\n",
      "y predicted [1 1 1 ... 1 1 1]\n",
      "Confusion matrix: \n",
      " [[ 172  788]\n",
      " [  82 2348]]\n",
      "Accuracy: 0.7433628318584071\n",
      "Recall TP/(TP+FN): [0.17916667 0.96625514]\n",
      "Precision TP/(TP+FP): [0.67716535 0.74872449]\n",
      "F1: [0.28336079 0.84369386]\n"
     ]
    }
   ],
   "source": [
    "## Try a binary support vector machine:\n",
    "\n",
    "classifier1 = SVC(kernel='rbf', gamma='scale',random_state=42) # default for kernel and gamma. AUC = 0.94\n",
    "#classifier2 = SVC(kernel='linear', gamma=10 ,random_state=42) # 0.94\n",
    "#classifier3 = SVC(kernel='sigmoid', gamma=10 ,random_state=42) # 0.82\n",
    "\n",
    "classifier1.fit(df_train, train_labels)\n",
    "svc_disp = plot_roc_curve(classifier1, df_test, test_labels)\n",
    "plt.show()\n",
    "\n",
    "\n",
    "### Run some stats to see if the model is doing well. \n",
    "### Note: for chr20, there are 696 exampels that pass, meaning 25% used for testing gives low numbers, see cm\n",
    "y_true = test_labels.to_numpy()\n",
    "y_pred = classifier1.predict(df_test)\n",
    "\n",
    "\n",
    "print(\"y true\", y_true) ## These are both numpy arrays now, why are the metrics returning arrays rather than single f\n",
    "print(\"y predicted\", y_pred)\n",
    "\n",
    "## see https://scikit-learn.org/stable/modules/generated/sklearn.metrics.recall_score.html?highlight=recall_score\n",
    "\n",
    "# Confusion Matrix\n",
    "from sklearn.metrics import confusion_matrix\n",
    "print(\"Confusion matrix: \\n\", confusion_matrix(y_true, y_pred))\n",
    "\n",
    "# Accuracy\n",
    "from sklearn.metrics import accuracy_score\n",
    "print(\"Accuracy:\", accuracy_score(y_true, y_pred))\n",
    "\n",
    "# Recall\n",
    "from sklearn.metrics import recall_score\n",
    "recall = recall_score(y_true, y_pred, average=None)\n",
    "print(\"Recall TP/(TP+FN):\", recall)\n",
    "\n",
    "# Precision\n",
    "from sklearn.metrics import precision_score\n",
    "precision = precision_score(y_true, y_pred, average=None)\n",
    "print(\"Precision TP/(TP+FP):\",precision)\n",
    "#recall: 195 / 195+552 = 195/747 = 0.261\n",
    "#precision: 195 / 195+132 = 195/327 =0.596\n",
    "\n",
    "# F1 score\n",
    "F1 = 2 * (precision * recall) / (precision + recall)\n",
    "print(\"F1:\", F1)"
   ]
  },
  {
   "cell_type": "code",
   "execution_count": null,
   "metadata": {},
   "outputs": [],
   "source": []
  }
 ],
 "metadata": {
  "kernelspec": {
   "display_name": "Python 3",
   "language": "python",
   "name": "python3"
  },
  "language_info": {
   "codemirror_mode": {
    "name": "ipython",
    "version": 3
   },
   "file_extension": ".py",
   "mimetype": "text/x-python",
   "name": "python",
   "nbconvert_exporter": "python",
   "pygments_lexer": "ipython3",
   "version": "3.7.2"
  }
 },
 "nbformat": 4,
 "nbformat_minor": 2
}
