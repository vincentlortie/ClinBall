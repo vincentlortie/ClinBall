{
 "cells": [
  {
   "cell_type": "code",
   "execution_count": 8,
   "metadata": {},
   "outputs": [],
   "source": [
    "# scikit-learn playground "
   ]
  },
  {
   "cell_type": "code",
   "execution_count": 9,
   "metadata": {},
   "outputs": [
    {
     "name": "stdout",
     "output_type": "stream",
     "text": [
      "shape before (3337, 4)\n",
      "shape after dropping all data with score = '.' (1900, 4)\n",
      "shape after dropping Unk (633, 3)\n"
     ]
    }
   ],
   "source": [
    "import torch\n",
    "import pandas as pd\n",
    "import numpy as np\n",
    "\n",
    "# using sklearn goodies\n",
    "import matplotlib.pyplot as plt\n",
    "from sklearn.svm import SVC\n",
    "from sklearn.ensemble import RandomForestClassifier\n",
    "from sklearn.metrics import plot_roc_curve\n",
    "from sklearn.datasets import load_wine\n",
    "from sklearn.model_selection import train_test_split\n",
    "\n",
    "\n",
    "df = pd.read_csv('data/chr20_out.tsv', sep='\\t', encoding = \"UTF-8\")\n",
    "df = df.set_index(['chr','pos', 'ref', 'alt']) #index by identifier\n",
    "#print(df.to_string()) ## will print the whole dataframe\n",
    "#df.plot.hist()\n",
    "\n",
    "print(\"shape before\", df.shape)\n",
    "df['FATHMM_score'] = df['FATHMM_score'].replace({'.': np.nan})\n",
    "df['MetaSVM_score'] = df['MetaSVM_score'].replace({'.': np.nan})  # find a generalized way to replace\n",
    "df = df.dropna()\n",
    "print(\"shape after dropping all data with score = '.'\", df.shape)\n",
    "df.head()\n",
    "\n",
    "## still contains some mixed labels, see them by: df[~df['clinvar_clnsig'].isin(list(clinvar_labels.keys()))]\n",
    "\n",
    "## Map labels to 1/0 and remove Unkn\n",
    "clinvar_labels={\n",
    "    'Pathogenic': 1,\n",
    "    'Likely_pathogenic': 1,\n",
    "    'Pathogenic/Likely_pathogenic': 1,\n",
    "    'Benign/Likely_benign': 0,\n",
    "    'Likely_benign': 0,\n",
    "    'Benign': 0\n",
    "}\n",
    "\n",
    "df.head()\n",
    "df = df[df['clinvar_clnsig'].isin(list(clinvar_labels.keys()))]  # best to drop everything that isn't in the dict\n",
    "df['Problematic'] = df['clinvar_clnsig'].map(clinvar_labels)\n",
    "\n",
    "df= df.drop(columns=['clinvar_clnsig', 'clinvar_id'])  #tbh, I don't know why I kept them. consider adding to index\n",
    "\n",
    "print(\"shape after dropping Unk\", df.shape)\n",
    "#df.head()"
   ]
  },
  {
   "cell_type": "code",
   "execution_count": 10,
   "metadata": {},
   "outputs": [
    {
     "name": "stdout",
     "output_type": "stream",
     "text": [
      "Training data subset\n",
      "\n",
      "                     FATHMM_score MetaSVM_score  Problematic\n",
      "chr pos      ref alt                                        \n",
      "20  5302452  C   T           1.08       -1.0156            1\n",
      "    63419667 C   A          -5.29        0.6922            0\n",
      "    45898107 A   G           -3.1        1.0038            1\n",
      "\n",
      "Test data subset\n",
      "\n",
      "                    FATHMM_score MetaSVM_score  Problematic\n",
      "chr pos     ref alt                                        \n",
      "20  968019  C   G          -2.06        0.5258            1\n",
      "    1980372 C   T          -2.13        0.4429            0\n",
      "    1980513 T   A           -1.6       -0.5999            0\n"
     ]
    }
   ],
   "source": [
    "## Split into train/test\n",
    "data_copy = df.copy()\n",
    "df_train = data_copy.sample(frac=0.75, random_state=1)\n",
    "df_test = data_copy.drop(df_train.index)\n",
    "\n",
    "print ('Training data subset\\n')\n",
    "print (df_train.head(3))  # head default n=5, first 3 is enough\n",
    "print ('\\nTest data subset\\n')\n",
    "print (df_test.head(3))\n",
    "\n",
    "\n",
    "## Get label:\n",
    "train_labels = df_train.pop('Problematic')  # replace with clinvar when column is available\n",
    "test_labels = df_test.pop('Problematic')"
   ]
  },
  {
   "cell_type": "code",
   "execution_count": 11,
   "metadata": {},
   "outputs": [
    {
     "data": {
      "image/png": "[encoded data removed]",
      "text/plain": [
       "<Figure size 432x288 with 1 Axes>"
      ]
     },
     "metadata": {
      "needs_background": "light"
     },
     "output_type": "display_data"
    },
    {
     "name": "stdout",
     "output_type": "stream",
     "text": [
      "y true [1 0 0 0 0 0 1 0 0 0 0 1 1 1 0 0 1 0 1 1 0 1 0 0 1 0 0 0 0 0 0 1 1 1 1 1 1\n",
      " 1 1 1 1 0 0 0 0 1 0 0 1 0 0 0 0 0 0 0 1 1 0 0 1 0 1 1 1 1 1 0 0 1 0 1 1 1\n",
      " 0 0 0 1 0 0 0 1 0 1 1 0 1 1 1 1 1 1 1 1 1 1 1 1 1 0 0 0 0 0 0 1 0 1 1 0 1\n",
      " 1 1 0 1 0 0 1 1 1 0 1 0 1 1 1 1 1 1 1 1 1 1 1 0 1 1 0 1 1 0 1 1 1 1 1 1 1\n",
      " 1 1 1 0 1 0 0 0 1 0]\n",
      "y predicted [1 1 0 0 0 0 1 0 0 1 1 1 1 0 0 0 1 0 1 1 0 1 0 1 1 0 0 0 0 0 1 1 1 1 1 1 1\n",
      " 1 1 1 0 1 0 0 0 1 0 0 1 1 0 0 0 0 0 0 1 1 0 0 0 0 1 1 1 1 1 0 1 1 0 1 1 1\n",
      " 1 0 0 0 1 0 0 0 1 1 1 0 0 1 0 1 1 1 1 1 1 1 1 1 0 0 0 0 0 0 0 1 0 1 1 0 0\n",
      " 1 1 0 1 0 0 1 1 0 0 1 0 1 1 1 0 1 1 1 1 1 1 1 0 0 1 0 0 1 0 1 1 1 1 1 0 0\n",
      " 1 1 1 0 0 0 0 0 0 0]\n",
      "Confusion matrix: \n",
      " [[58 11]\n",
      " [17 72]]\n",
      "Accuracy: 0.8227848101265823\n",
      "Recall TP/(TP+FN): [0.84057971 0.80898876]\n",
      "Precision TP/(TP+FP): [0.77333333 0.86746988]\n",
      "F1: [0.80555556 0.8372093 ]\n"
     ]
    }
   ],
   "source": [
    "## Try a binary support vector machine:\n",
    "\n",
    "classifier1 = SVC(kernel='rbf', gamma='scale',random_state=42) # default for kernel and gamma. AUC = 0.94\n",
    "classifier2 = SVC(kernel='linear', gamma=10 ,random_state=42) # 0.94\n",
    "classifier3 = SVC(kernel='sigmoid', gamma=10 ,random_state=42) # 0.82\n",
    "\n",
    "classifier1.fit(df_train, train_labels)\n",
    "svc_disp = plot_roc_curve(classifier1, df_test, test_labels)\n",
    "plt.show()\n",
    "\n",
    "\n",
    "### Run some stats to see if the model is doing well. \n",
    "### Note: for chr20, there are 696 exampels that pass, meaning 25% used for testing gives low numbers, see cm\n",
    "y_true = test_labels.to_numpy()\n",
    "y_pred = classifier1.predict(df_test)\n",
    "\n",
    "\n",
    "print(\"y true\", y_true) ## These are both numpy arrays now, why are the metrics returning arrays rather than single f\n",
    "print(\"y predicted\", y_pred)\n",
    "\n",
    "## see https://scikit-learn.org/stable/modules/generated/sklearn.metrics.recall_score.html?highlight=recall_score\n",
    "\n",
    "# Confusion Matrix\n",
    "from sklearn.metrics import confusion_matrix\n",
    "print(\"Confusion matrix: \\n\", confusion_matrix(y_true, y_pred))\n",
    "\n",
    "# Accuracy\n",
    "from sklearn.metrics import accuracy_score\n",
    "print(\"Accuracy:\", accuracy_score(y_true, y_pred))\n",
    "\n",
    "# Recall\n",
    "from sklearn.metrics import recall_score\n",
    "recall = recall_score(y_true, y_pred, average=None)\n",
    "print(\"Recall TP/(TP+FN):\", recall)\n",
    "\n",
    "# Precision\n",
    "from sklearn.metrics import precision_score\n",
    "precision = precision_score(y_true, y_pred, average=None)\n",
    "print(\"Precision TP/(TP+FP):\",precision)\n",
    "\n",
    "\n",
    "# F1 score\n",
    "F1 = 2 * (precision * recall) / (precision + recall)\n",
    "print(\"F1:\", F1)"
   ]
  },
  {
   "cell_type": "code",
   "execution_count": 12,
   "metadata": {},
   "outputs": [],
   "source": [
    "#type(y_true.to_numpy())  # pandas.core.series.Series\n",
    "#type(y_pred) # numpy.ndarray"
   ]
  },
  {
   "cell_type": "code",
   "execution_count": 13,
   "metadata": {},
   "outputs": [
    {
     "data": {
      "image/png": "[encoded data removed]",
      "text/plain": [
       "<Figure size 432x288 with 1 Axes>"
      ]
     },
     "metadata": {
      "needs_background": "light"
     },
     "output_type": "display_data"
    },
    {
     "name": "stdout",
     "output_type": "stream",
     "text": [
      "Feature ranking:\n",
      "1. feature 1 (0.610717)\n",
      "2. feature 0 (0.389283)\n"
     ]
    },
    {
     "data": {
      "image/png": "[encoded data removed]",
      "text/plain": [
       "<Figure size 432x288 with 1 Axes>"
      ]
     },
     "metadata": {
      "needs_background": "light"
     },
     "output_type": "display_data"
    }
   ],
   "source": [
    "# Try a random forest:\n",
    "\n",
    "forest = RandomForestClassifier(n_estimators=10, random_state=42)\n",
    "forest.fit(df_train, train_labels)\n",
    "ax = plt.gca()\n",
    "rfc_disp = plot_roc_curve(forest, df_test, test_labels, ax=ax, alpha=0.8)\n",
    "svc_disp.plot(ax=ax, alpha=0.8)\n",
    "plt.show()\n",
    "\n",
    "## Get at and plot the feature importance (tutorial: https://scikit-learn.org/stable/auto_examples/ensemble/plot_forest_importances.html)\n",
    "importances = forest.feature_importances_\n",
    "std = np.std([tree.feature_importances_ for tree in forest.estimators_],\n",
    "             axis=0)\n",
    "indices = np.argsort(importances)[::-1]\n",
    "# Print the feature ranking\n",
    "print(\"Feature ranking:\")\n",
    "\n",
    "for f in range(df_train.shape[1]):\n",
    "    print(\"%d. feature %d (%f)\" % (f + 1, indices[f], importances[indices[f]]))\n",
    "\n",
    "    \n",
    "# Plot the feature importances of the forest\n",
    "plt.figure()\n",
    "plt.title(\"Feature importances\")\n",
    "plt.bar(range(df_train.shape[1]), importances[indices],\n",
    "       color=\"r\", yerr=std[indices], align=\"center\")\n",
    "plt.xticks(range(df_train.shape[1]), indices)\n",
    "plt.xlim([-1, df_train.shape[1]])\n",
    "plt.show()"
   ]
  },
  {
   "cell_type": "code",
   "execution_count": null,
   "metadata": {},
   "outputs": [],
   "source": []
  }
 ],
 "metadata": {
  "kernelspec": {
   "display_name": "Python 3",
   "language": "python",
   "name": "python3"
  },
  "language_info": {
   "codemirror_mode": {
    "name": "ipython",
    "version": 3
   },
   "file_extension": ".py",
   "mimetype": "text/x-python",
   "name": "python",
   "nbconvert_exporter": "python",
   "pygments_lexer": "ipython3",
   "version": "3.7.2"
  }
 },
 "nbformat": 4,
 "nbformat_minor": 2
}
